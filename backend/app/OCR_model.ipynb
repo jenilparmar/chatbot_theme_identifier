{
 "cells": [
  {
   "cell_type": "code",
   "execution_count": 10,
   "id": "592c7147",
   "metadata": {},
   "outputs": [
    {
     "name": "stdout",
     "output_type": "stream",
     "text": [
      "Collecting import-ipynb\n",
      "  Downloading import_ipynb-0.2-py3-none-any.whl.metadata (2.3 kB)\n",
      "Requirement already satisfied: IPython in d:\\chatbot_theme_identifier\\.venv\\lib\\site-packages (from import-ipynb) (9.2.0)\n",
      "Collecting nbformat (from import-ipynb)\n",
      "  Downloading nbformat-5.10.4-py3-none-any.whl.metadata (3.6 kB)\n",
      "Requirement already satisfied: colorama in d:\\chatbot_theme_identifier\\.venv\\lib\\site-packages (from IPython->import-ipynb) (0.4.6)\n",
      "Requirement already satisfied: decorator in d:\\chatbot_theme_identifier\\.venv\\lib\\site-packages (from IPython->import-ipynb) (5.2.1)\n",
      "Requirement already satisfied: ipython-pygments-lexers in d:\\chatbot_theme_identifier\\.venv\\lib\\site-packages (from IPython->import-ipynb) (1.1.1)\n",
      "Requirement already satisfied: jedi>=0.16 in d:\\chatbot_theme_identifier\\.venv\\lib\\site-packages (from IPython->import-ipynb) (0.19.2)\n",
      "Requirement already satisfied: matplotlib-inline in d:\\chatbot_theme_identifier\\.venv\\lib\\site-packages (from IPython->import-ipynb) (0.1.7)\n",
      "Requirement already satisfied: prompt_toolkit<3.1.0,>=3.0.41 in d:\\chatbot_theme_identifier\\.venv\\lib\\site-packages (from IPython->import-ipynb) (3.0.51)\n",
      "Requirement already satisfied: pygments>=2.4.0 in d:\\chatbot_theme_identifier\\.venv\\lib\\site-packages (from IPython->import-ipynb) (2.19.1)\n",
      "Requirement already satisfied: stack_data in d:\\chatbot_theme_identifier\\.venv\\lib\\site-packages (from IPython->import-ipynb) (0.6.3)\n",
      "Requirement already satisfied: traitlets>=5.13.0 in d:\\chatbot_theme_identifier\\.venv\\lib\\site-packages (from IPython->import-ipynb) (5.14.3)\n",
      "Requirement already satisfied: wcwidth in d:\\chatbot_theme_identifier\\.venv\\lib\\site-packages (from prompt_toolkit<3.1.0,>=3.0.41->IPython->import-ipynb) (0.2.13)\n",
      "Requirement already satisfied: parso<0.9.0,>=0.8.4 in d:\\chatbot_theme_identifier\\.venv\\lib\\site-packages (from jedi>=0.16->IPython->import-ipynb) (0.8.4)\n",
      "Collecting fastjsonschema>=2.15 (from nbformat->import-ipynb)\n",
      "  Downloading fastjsonschema-2.21.1-py3-none-any.whl.metadata (2.2 kB)\n",
      "Collecting jsonschema>=2.6 (from nbformat->import-ipynb)\n",
      "  Downloading jsonschema-4.24.0-py3-none-any.whl.metadata (7.8 kB)\n",
      "Requirement already satisfied: jupyter-core!=5.0.*,>=4.12 in d:\\chatbot_theme_identifier\\.venv\\lib\\site-packages (from nbformat->import-ipynb) (5.7.2)\n",
      "Requirement already satisfied: attrs>=22.2.0 in c:\\users\\legion\\appdata\\local\\programs\\python\\python312\\lib (from jsonschema>=2.6->nbformat->import-ipynb) (23.1.0)\n",
      "Collecting jsonschema-specifications>=2023.03.6 (from jsonschema>=2.6->nbformat->import-ipynb)\n",
      "  Downloading jsonschema_specifications-2025.4.1-py3-none-any.whl.metadata (2.9 kB)\n",
      "Collecting referencing>=0.28.4 (from jsonschema>=2.6->nbformat->import-ipynb)\n",
      "  Using cached referencing-0.36.2-py3-none-any.whl.metadata (2.8 kB)\n",
      "Collecting rpds-py>=0.7.1 (from jsonschema>=2.6->nbformat->import-ipynb)\n",
      "  Downloading rpds_py-0.25.1-cp312-cp312-win_amd64.whl.metadata (4.2 kB)\n",
      "Requirement already satisfied: platformdirs>=2.5 in d:\\chatbot_theme_identifier\\.venv\\lib\\site-packages (from jupyter-core!=5.0.*,>=4.12->nbformat->import-ipynb) (4.3.8)\n",
      "Requirement already satisfied: pywin32>=300 in d:\\chatbot_theme_identifier\\.venv\\lib\\site-packages (from jupyter-core!=5.0.*,>=4.12->nbformat->import-ipynb) (310)\n",
      "Requirement already satisfied: typing-extensions>=4.4.0 in d:\\chatbot_theme_identifier\\.venv\\lib\\site-packages (from referencing>=0.28.4->jsonschema>=2.6->nbformat->import-ipynb) (4.13.2)\n",
      "Requirement already satisfied: executing>=1.2.0 in d:\\chatbot_theme_identifier\\.venv\\lib\\site-packages (from stack_data->IPython->import-ipynb) (2.2.0)\n",
      "Requirement already satisfied: asttokens>=2.1.0 in d:\\chatbot_theme_identifier\\.venv\\lib\\site-packages (from stack_data->IPython->import-ipynb) (3.0.0)\n",
      "Requirement already satisfied: pure-eval in d:\\chatbot_theme_identifier\\.venv\\lib\\site-packages (from stack_data->IPython->import-ipynb) (0.2.3)\n",
      "Downloading import_ipynb-0.2-py3-none-any.whl (4.0 kB)\n",
      "Downloading nbformat-5.10.4-py3-none-any.whl (78 kB)\n",
      "Downloading fastjsonschema-2.21.1-py3-none-any.whl (23 kB)\n",
      "Downloading jsonschema-4.24.0-py3-none-any.whl (88 kB)\n",
      "Downloading jsonschema_specifications-2025.4.1-py3-none-any.whl (18 kB)\n",
      "Using cached referencing-0.36.2-py3-none-any.whl (26 kB)\n",
      "Downloading rpds_py-0.25.1-cp312-cp312-win_amd64.whl (235 kB)\n",
      "Installing collected packages: fastjsonschema, rpds-py, referencing, jsonschema-specifications, jsonschema, nbformat, import-ipynb\n",
      "\n",
      "   ---------------------------------------- 0/7 [fastjsonschema]\n",
      "   ---------------------------------------- 0/7 [fastjsonschema]\n",
      "   ---------------------------------------- 0/7 [fastjsonschema]\n",
      "   ---------------------------------------- 0/7 [fastjsonschema]\n",
      "   ---------------------------------------- 0/7 [fastjsonschema]\n",
      "   ---------------------------------------- 0/7 [fastjsonschema]\n",
      "   ----- ---------------------------------- 1/7 [rpds-py]\n",
      "   ----------- ---------------------------- 2/7 [referencing]\n",
      "   ----------- ---------------------------- 2/7 [referencing]\n",
      "   ----------------- ---------------------- 3/7 [jsonschema-specifications]\n",
      "   ---------------------- ----------------- 4/7 [jsonschema]\n",
      "   ---------------------- ----------------- 4/7 [jsonschema]\n",
      "   ---------------------- ----------------- 4/7 [jsonschema]\n",
      "   ---------------------- ----------------- 4/7 [jsonschema]\n",
      "   ---------------------- ----------------- 4/7 [jsonschema]\n",
      "   ---------------------------- ----------- 5/7 [nbformat]\n",
      "   ---------------------------- ----------- 5/7 [nbformat]\n",
      "   ---------------------------- ----------- 5/7 [nbformat]\n",
      "   ---------------------------- ----------- 5/7 [nbformat]\n",
      "   ---------------------------------- ----- 6/7 [import-ipynb]\n",
      "   ---------------------------------------- 7/7 [import-ipynb]\n",
      "\n",
      "Successfully installed fastjsonschema-2.21.1 import-ipynb-0.2 jsonschema-4.24.0 jsonschema-specifications-2025.4.1 nbformat-5.10.4 referencing-0.36.2 rpds-py-0.25.1\n",
      "Note: you may need to restart the kernel to use updated packages.\n"
     ]
    }
   ],
   "source": [
    "# %pip install pytesseract pillow\n",
    "# %pip install import-ipynb\n",
    "# %pip install opencv-python\n",
    "# %pip install pymupdf "
   ]
  },
  {
   "cell_type": "code",
   "execution_count": 1,
   "id": "1a717ce3",
   "metadata": {},
   "outputs": [],
   "source": [
    "import pytesseract\n",
    "pytesseract.pytesseract.tesseract_cmd = r\"C:\\Program Files\\Tesseract-OCR\\tesseract.exe\"\n"
   ]
  },
  {
   "cell_type": "code",
   "execution_count": 31,
   "id": "be0818df",
   "metadata": {},
   "outputs": [
    {
     "name": "stdout",
     "output_type": "stream",
     "text": [
      "xIV) Chikitsa Sthana 70s\n",
      "\n",
      "Avastika Chikitsa for Arsha\n",
      "\n",
      "Shushka Arsha (Vata ‘Swedana 139\n",
      "Kaphaja) Stambha, |\n",
      "Shvayathu, Kandu Arti i\n",
      "ja. | Shushikea Arsha (Vata Sechana—Nimbadi Jala ic\n",
      "Kaphaja) Stambha, |\n",
      "Shvayathu, Kandu Arti\n",
      "3. | Shulain Shushka Arsha | Avagahana itz bath) Molakadi Kwatha [45\n",
      "4. | Shula in Shushka Arsha Dhupana five Dhupana Yoga [8\n",
      "|S. | Shula in Shushka Arsha Lepa and Pradeha- eight Lepa Yoga [52-57\n",
      "6. \"| Rakta Dushti in Arsha Rakta Mokshana-Jalauka, Suchior | 60-61\n",
      "Siravyadha\n",
      "7. | Shvayathu and Mandagni in | Trayushanadi Churna a\n",
      "Arsha, Raktarsha\n",
      "[8. | Shvayathu and Mandagni in | Arshohara 12 Yoga 71\n",
      "Arsha, Rakta Arsha\n",
      ")°. | Srava Arsha for Dipana Takrarishta 72-75\n",
      "|__| Pachana\n",
      "10. \"| Atyartha Mandagni Kevala Takra 5\n",
      "11.” | Kapha Pradhana Arsha Ruksha Takra 83\n",
      "|__| (Manda Tama Agni )\n",
      "[32] Pita Pradhana Arsha ‘Ardha Dhruta Takea 34\n",
      "13°) Vata Pradhana Arsha “Rnudhrata Sneha Take w\n",
      "br (Mandagni )\n",
      "is ‘Arsbain Binna Shakruta | Pippalyadt Yave oe aie\n",
      "St Br Var reve arr | ‘Yusha, Kulatl\n",
      "Atsha in Bi | Shushka Mutka Yusha,\n",
      "ronment ‘Yusha, Kapitthyadi Yusha =\n",
      "il T iaaiyandika Yous. Giuda Nagara\n",
      "‘Vibandha i iyandika Youa, Gude\n",
      "eee wae Yayanyadi You\n",
      "\n",
      "\n"
     ]
    }
   ],
   "source": [
    "from PIL import Image\n",
    "import pytesseract\n",
    "\n",
    "# Load an image with text\n",
    "image = Image.open(r\"D:\\chatbot_theme_identifier\\backend\\app\\page_5.png\")\n",
    "\n",
    "# Extract text\n",
    "text = pytesseract.image_to_string(image)\n",
    "\n",
    "print(text)\n"
   ]
  },
  {
   "cell_type": "code",
   "execution_count": null,
   "id": "1882625d",
   "metadata": {},
   "outputs": [],
   "source": []
  },
  {
   "cell_type": "markdown",
   "id": "813c7c5c",
   "metadata": {},
   "source": [
    "this below code is for single pdf to image converter and also it is extracting the text from image, with threshhold machnism"
   ]
  },
  {
   "cell_type": "code",
   "execution_count": 7,
   "id": "1932ca96",
   "metadata": {},
   "outputs": [],
   "source": [
    "import fitz  # PyMuPDF\n",
    "import io\n",
    "import cv2\n",
    "import numpy as np\n",
    "from PIL import Image\n",
    "import pytesseract\n",
    "\n",
    "# Replace with your actual PDF path\n",
    "def extract_text_scanned_doc(pdf_path):\n",
    "    doc = fitz.open(pdf_path)\n",
    "\n",
    "    text = \"\"\n",
    "    pdf_data = {}\n",
    "    for page_num in range(len(doc)):\n",
    "        # 2. Convert PDF page to image in memory\n",
    "        page = doc.load_page(page_num)\n",
    "        pix = page.get_pixmap()\n",
    "        img_bytes = pix.tobytes(\"png\")\n",
    "        \n",
    "        # 3. Convert to OpenCV format (CORRECTED)\n",
    "        pil_image = Image.open(io.BytesIO(img_bytes))\n",
    "        image = cv2.cvtColor(np.array(pil_image), cv2.COLOR_RGB2BGR)  # Fix color conversion\n",
    "        # 4. Thresholding (improved parameters)\n",
    "        gray = cv2.cvtColor(image, cv2.COLOR_BGR2GRAY)\n",
    "        _, im_bw = cv2.threshold(gray, 180, 255, cv2.THRESH_BINARY_INV + cv2.THRESH_OTSU)\n",
    "        cv2.imwrite(f\"thresh{page_num}.jpg\", im_bw)\n",
    "        pdf_data[page_num+1]=pytesseract.image_to_string(im_bw, lang='eng')\n",
    "    return pdf_data      \n",
    "\n",
    "\n",
    "\n"
   ]
  },
  {
   "cell_type": "code",
   "execution_count": 8,
   "id": "add87a43",
   "metadata": {},
   "outputs": [],
   "source": [
    "notes = extract_text_scanned_doc(\"text.pdf\")"
   ]
  },
  {
   "cell_type": "code",
   "execution_count": null,
   "id": "37c8eb52",
   "metadata": {},
   "outputs": [
    {
     "name": "stdout",
     "output_type": "stream",
     "text": [
      "{1: 'Chit\\nx kita Sthana 529\\n\\nAreya, the illustrious sage, the Brahman and the knower of ulimate truth, expounded\\nberapeotics for the treatment of Kshata Kshina, as given below. [3] .\\n\\nCommentary- -\\n\\naesificats Rafters aria PAC — The word Brahmashri is used in Shioka for\\n‘Aweya Punarvasu that excluded Devarshi and Rajashri.\\n\\n‘fore afaraes-In regard for the treatment of Kshata Kshina.\\n\\n‘faite RerenRrerema=TF- This text is more focused and celated on Chikitsa Shastra,\\n\\nNidane-of Kshate Kshina [4-8]\\nagussuerised mam grt\\namet fewireceat afte: ae qeaA: i\\nwow wooed ad od fgg\\n‘PrevereraPretar, frit fem WEIS\\naheae apt a a FU\\nmet oo met etat owe ram: Nott\\nwast: aft: pth TT\\nfret waft enfin, | BRERA\\nRik Pity aimee waremfirenfgrr: is\\n1 ga Kshins i caused because of the Following activities.\\nae SSaRRISd - Straining in excess with a hard bow.\\noon TPA - Camying heavy weight —\\n4 ay, - Falling or jamping over uneven place or from high altinude.\\nSag gg oe TF ~ Wresting or fighting slong with stronger penons.\\ni 0 Sand ae asa fg Restraining x uoning bull, stallion or any other\\n\\nFetal coguring contal\\n\\nip Rave Prem: TaR- Throwing heavy stones, wooden blocks, or\\n\"ey ate 0 stone or beningotrs With CSE —\\n: Ray 9 TmSAR - Reciting scriptures loudly.\\ngg BL Running along distance or walking 00 Fst\\n2a ve Crossing a big sver by swaying\\n\\n', 2: '530 Charaka Samhita\\n\\n10, 8e War: - Running along with horse.\\n\\n11. aeRiterdt gE - Sudden long and high jump.\\n\\n12, at - Running quickly\\n\\n13, SIRIGRM - Practicing violent dance for a long time.\\n\\n14, HR gbherenene F - Being excessively injured by other violent and cruel xs,\\n\\n15, tig “afaraeea - One who indulges excessively in sexual intercourse.\\n\\n16, erecsftatrt: - Who indulges if excess Raksha (dry), Pramitashana as\\nfood or limited food) Kshata Kshina, the formidable disease, gets manltesial. 312\\nFesalt of the injury to the chest due to the above causative factors. [4-8]\\n\\nCommentary-\\n\\nAPR Rf TERATATER: - Getting more physical fatigue.\\n\\n‘fois eaierar aenfiré:- Comparatively more stronger\\n\\nFryeera eft eI Kolding. . ~\\n\\nFrit: arafiae:- Placement of stone ptheavy material with the support of instamt\\n\\nameTETeA VERETA - Injured by some one else.\\n\\ncafes aeRO: eer emf: - One\\nVyadbi is mentioned.\\n\\ntore terms for Kshata Kshina the **\\n\\n‘Suafeect zara ac ~ Doshadi vtiation also named as Vyadhis\\n\\n‘saree. safes refers to Ura Kshata itself. . a\\nawed\\n\\n4 fOr TT aENETA wT, aT seasafwATAT wa - Urakshata occurs BE\\n\\ninvolyement of Tridhosha, the Urakshata ests OI\\nent of 2 wakshima pathogenests yi\\nthaq IGShasa KSHTAA IF Urakshata neglected from weatment further, e502\"\\n\\nnt further e557\\n\\nRajayakshima. wo\\n\\n« ‘ay farmer Senet: aera eae: meget i ea: PATTI nt\\nSrenenisy ~ By the Str Sambhoge in exceds, Ruksha Ahara, Pramiteshs™™\\n\\nsuch factors eause Balevan Vyadhi (Rajayakshwra), ,\\n\\nKshata Kshina Samprapti [9-12]\\ni ferment mea firms farses\\nwiewt am unt Wee raat tigi\\n\\n', 3: '‘Clikttea Sthana\\n\\nyouth owe tet wher vied\\n\\nway rr write factateemntart uot\\n\\nee wet gehen het fateh age\\n\\na\\nTe mete atest rer garter eran\\n\\nDoe to the above mentioned catyative lactows the chest wols baker, pumetyned aad\\nahd at aides of the chest get prestedt nuul there ds Pravepata (emitcistiqatas well autrenor\\nadelitods). Gradually the reduction of Virya (utency), Hulu (stiengtin, Varna (compiler\\n\\nbell (appetite) ated Agul che power af digesting ol the jationt,\\n\\n‘Trepationt suffers Crome Jwvaca (lever, Vyuthn (paind, Minndiiinyan (ntental depres\\nBoland Vic Boody iaurtion) along with the dimlundun uf Agni uleereased power of diges-\\nea) White Kase Cooutiing), the parton spits out Stesbuia(phlep) whet ie Dash (pu-\\nPO), Shyaye (grayish it cokonr), Sulurgaullia (Foul swelling? wn Pite Vigrnttits Bahu (yel-\\nbe (he person sulfering from hata\\n\\nand knotty, in tage quantities along. swith blow\\naatesanes safvely Raxtgya (gatacateu hue to ter redstion of Sthukro and\\n21 ——e\\n\\nCoromaentary. Prgetsfieaerem - Bodh cerns weee uentioved in this context, that indi-\\n‘6 Vihheda (inectiea) oxcurs with or lot he invulverent uA\\nFR 8 - Disappeared\\nfem ‘RRR Tay « Depletion of supportive clement.\\nr= gerade AA RNTIRSETT NARA ~ Not only\\neg UR ea, Fg ater FTES ed\\n\\nvet\\nSg Reha (injury) occurs even beswuse ol excess inulge inex depetion of Dh\\n\\nAbutat- Urkstnta\\nd\\nVata Prokop\\n\\n4\\nist hat\\n‘The Visited Vata does tho depteion of Ros DMA,\\n\\n‘Bidhyote, Vibtajayao, Pasha ABA\\nJ ceting, pain ane etiscorngon ine flanks)\\neRltypes of pata like sling, sta pain\\n', 4: '52 Charaka Sambitu\\n\\nIr\\nPrvezana eign cbc’) Gadi seduconin Be Van, .\\n{Strength color, taste Perception, and digestion poe) a\\nAgnivadha, Vit Bheda (without specific reason)\\n% ”\\n\\nDham Kshaya (Reduction in formation as well as ‘excess elimination)\\nt\\n\\nRakta Oa Kshaya\\nManifestation of Ksadi Kshata Kshina-Lakshana,\\n\\nSamprapti Chataka of Kshata Kshing\\n\\nDosha > Vata Pradbana Tridosha\\n\\nDushya > AILDhatu and Mala\\n\\nAgni > Jatharagni, Dhatvagni\\n\\nAgnidushei + Mandagni\\n\\nSrowas 7 Rasavaha, Annavaha, Sakravaha, lateral the St\\n\\n‘Strxodushis + Sangha, Vimargegumana\\n\\nMarga > Madhyama Roga Marga.\\n\\nUdbhavaSthana —— Sarva Sharine\\n\\nSancharaSttana Sarva Shaving\\n\\nSxstaSthana = Sarva Shanna\\n\\nSwabhava . Chirakar\\n\\nForvarupa of Kehata Kshina ta)\\n\\naf\\nand symptoms in un\\n\\nKshgta Vishesha 1,\\n\\nne\\n\\naksbonw [13]\\n\\nSRR mt te, ate “\\n\\nhs\\nne\\n\\nJn Kshata Gury onion shee ; jays\\nSaw 2 as ox a pec te, Shs\\nKsbuya Vishestos Leshan [11\\n\\n)\\n\\nKahane ume sy eon\\nPani Prosi Ka ten) SO a\\nspecially musuifested (12672.(37 BB don\\n\\n', 5: 'xv] Chikitsa Sthana 705\\n\\nAvastika Chikitsa for Arsha\\n\\nfee] vastha Chikitsa Siok\\n\\nS Ne\\n\\n| Shustika Arsha (Vata Swedana eS\\nKaphaja) Stambha, !\\nShvayathu, Kandy Acti i\\n\\nJa | Shushika Arsha (Vata Secharta—Nimbadi Jala i\\nKaphaja) Stambha, \\'\\nShvayatho, Kandu Arti i\\n\\n|3. | Shula in Shushka Arsha “Avagahana itz bath) Mulakadi Kevatha | 45\\n\\n\\\\4._ | Shula in Shushka Arsha Dhupana five Dhupana Yoga [38\\n\\n5. | Shula in Shushka Arsha ‘Lepa and Pradeha- eight Lepa Yoga 152-57\\n\\n6. | Rakta Dushti in Arsha Rakta Mokshana- Jalauka, Suchior [60-61\\n\\nSiravyadha\\n\\n7. | Shvayatha and Mandagni in | Trayushanadi Churna ot\\nArsha, Raktarsha\\n\\n8” ~ | Shvayathu and Mandagal in | Arsbohara 12 Yoga rat\\nArsha, Rakta Arsha\\n\\n9: | Srava Ardha for Dipana | Takrarisbta TRIS\\n\\n|__| Pachana\\n\\n[20. “| Atyartha Mandagni Kevala Taka 8\\n\\n\\\\.t.” | Kapha Pradhana Assha Ruksha Takra 83\\n\\n[__| (Manda Tama Agni) a\\n\\n[!2 | Pina Pradwana Arsha “Avda Bibruta Taku\\n\\n13.\" | Vata Bradhana Arsha Fnwaheaia Sneha Takee w\\n\\ni (Mandagni\\n\\nLe] Arsbain Binna Shakruts [Pippalyadt ‘awa ae\\n\\nIS. ae ‘Yusha, Kudattova\\n\\n* | Arsha in Binna Shakruia Shushka a Muli us a Ke\\nhe} ae 4\\n| Vibandha Wi a\\n“8: | Vibandhaie Arsha ate anya YOR\\n\\n'}\n"
     ]
    }
   ],
   "source": []
  },
  {
   "cell_type": "code",
   "execution_count": null,
   "id": "18b9d476",
   "metadata": {},
   "outputs": [],
   "source": []
  },
  {
   "cell_type": "code",
   "execution_count": null,
   "id": "f5304df4",
   "metadata": {},
   "outputs": [],
   "source": []
  },
  {
   "cell_type": "code",
   "execution_count": null,
   "id": "4df3d81b",
   "metadata": {},
   "outputs": [],
   "source": []
  }
 ],
 "metadata": {
  "kernelspec": {
   "display_name": ".venv",
   "language": "python",
   "name": "python3"
  },
  "language_info": {
   "codemirror_mode": {
    "name": "ipython",
    "version": 3
   },
   "file_extension": ".py",
   "mimetype": "text/x-python",
   "name": "python",
   "nbconvert_exporter": "python",
   "pygments_lexer": "ipython3",
   "version": "3.12.2"
  }
 },
 "nbformat": 4,
 "nbformat_minor": 5
}
